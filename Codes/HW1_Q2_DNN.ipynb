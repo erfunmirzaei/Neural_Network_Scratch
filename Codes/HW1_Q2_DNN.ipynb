{
  "nbformat": 4,
  "nbformat_minor": 0,
  "metadata": {
    "colab": {
      "name": "HW1_Q2_DNN",
      "provenance": []
    },
    "kernelspec": {
      "name": "python3",
      "display_name": "Python 3"
    },
    "language_info": {
      "name": "python"
    }
  },
  "cells": [
    {
      "cell_type": "markdown",
      "metadata": {
        "id": "IEzUJhKD800X"
      },
      "source": [
        "In the second question, I do calculations for a convolution layer. "
      ]
    },
    {
      "cell_type": "code",
      "metadata": {
        "id": "3sV8nr208rx0"
      },
      "source": [
        " # Importing required libraries \n",
        " import numpy as np \n",
        " from scipy.signal import convolve2d\n",
        " from skimage.measure import block_reduce as pooling "
      ],
      "execution_count": null,
      "outputs": []
    },
    {
      "cell_type": "markdown",
      "metadata": {
        "id": "NP4ZCZdkj_Xf"
      },
      "source": [
        "# Question 2 "
      ]
    },
    {
      "cell_type": "code",
      "metadata": {
        "id": "aMaQfmO_kBqQ",
        "colab": {
          "base_uri": "https://localhost:8080/"
        },
        "outputId": "0693764e-7ec9-45fd-af82-668ad1d44708"
      },
      "source": [
        "image = np.array([[2,1,3,3],\n",
        "                  [1,6,2,5],\n",
        "                  [1,4,5,2],\n",
        "                  [6,6,5,3]])\n",
        "image.shape"
      ],
      "execution_count": null,
      "outputs": [
        {
          "output_type": "execute_result",
          "data": {
            "text/plain": [
              "(4, 4)"
            ]
          },
          "metadata": {
            "tags": []
          },
          "execution_count": 2
        }
      ]
    },
    {
      "cell_type": "code",
      "metadata": {
        "id": "ivsascpRkDLh",
        "colab": {
          "base_uri": "https://localhost:8080/"
        },
        "outputId": "069c90ed-f6af-4549-fd69-b8857f4c39cc"
      },
      "source": [
        "image_1 = np.pad(image,pad_width = 1)\n",
        "print(image_1.shape)\n",
        "print(image_1)"
      ],
      "execution_count": null,
      "outputs": [
        {
          "output_type": "stream",
          "text": [
            "(6, 6)\n",
            "[[0 0 0 0 0 0]\n",
            " [0 2 1 3 3 0]\n",
            " [0 1 6 2 5 0]\n",
            " [0 1 4 5 2 0]\n",
            " [0 6 6 5 3 0]\n",
            " [0 0 0 0 0 0]]\n"
          ],
          "name": "stdout"
        }
      ]
    },
    {
      "cell_type": "code",
      "metadata": {
        "id": "JGB3HKvBIqt-"
      },
      "source": [
        "filter1 = np.array([[0,1,2],\n",
        "                  [1,0,1],\n",
        "                  [2,1,0]])\n",
        "\n",
        "\n",
        "filter2 = np.array([[1,0,1],\n",
        "                  [0,1,0],\n",
        "                  [1,0,1]])\n",
        "\n",
        "\n",
        "filter3 = np.array([[1,2,0],\n",
        "                    [2,0,2],\n",
        "                    [0,2,1]])\n"
      ],
      "execution_count": null,
      "outputs": []
    },
    {
      "cell_type": "code",
      "metadata": {
        "id": "_racXpcRJWia"
      },
      "source": [
        "out_1 = convolve2d(image_1,filter1,mode = 'valid')\n",
        "out_2 = convolve2d(image_1,filter2,mode = 'valid')\n",
        "out_3 = convolve2d(image_1,filter3,mode = 'valid')"
      ],
      "execution_count": null,
      "outputs": []
    },
    {
      "cell_type": "code",
      "metadata": {
        "colab": {
          "base_uri": "https://localhost:8080/"
        },
        "id": "u36dz9o1KXQt",
        "outputId": "a7ce4d63-8b4d-4c8e-ff2c-9f2ef4c2fcfc"
      },
      "source": [
        "print(\"Convolved image with the first filter is :\\n\",out_1)\n",
        "print(\"Convolved image with the second filter is :\\n\",out_2)\n",
        "print(\"Convolved image with the third filter is :\\n\",out_3)"
      ],
      "execution_count": null,
      "outputs": [
        {
          "output_type": "stream",
          "text": [
            "Convolved image with the first filter is :\n",
            " [[ 2 13 18 12]\n",
            " [11 16 33 17]\n",
            " [23 34 35 23]\n",
            " [15 25 18  7]]\n",
            "Convolved image with the second filter is :\n",
            " [[ 8  4 14  5]\n",
            " [ 6 17 12 13]\n",
            " [13 18 25  9]\n",
            " [10 12 11  8]]\n",
            "Convolved image with the third filter is :\n",
            " [[10 24 17 16]\n",
            " [22 23 41 17]\n",
            " [28 42 35 28]\n",
            " [14 31 32 19]]\n"
          ],
          "name": "stdout"
        }
      ]
    },
    {
      "cell_type": "code",
      "metadata": {
        "id": "Bi3IPT4jLdop"
      },
      "source": [
        "out_pool1 = pooling(out_1, (2,2), np.max)\n",
        "out_pool2 = pooling(out_2, (2,2), np.max)\n",
        "out_pool3 = pooling(out_3, (2,2), np.max)"
      ],
      "execution_count": null,
      "outputs": []
    },
    {
      "cell_type": "code",
      "metadata": {
        "colab": {
          "base_uri": "https://localhost:8080/"
        },
        "id": "iBmAa7NK95Ba",
        "outputId": "d665ab12-1b93-4a44-90ad-c182d1eea60a"
      },
      "source": [
        "print(\"Convolved image with the first filter after max pooling is :\\n\",out_pool1)\n",
        "print(\"Convolved image with the second filter after max pooling is :\\n\",out_pool2)\n",
        "print(\"Convolved image with the third filter after max pooling is :\\n\",out_pool3)"
      ],
      "execution_count": null,
      "outputs": [
        {
          "output_type": "stream",
          "text": [
            "Convolved image with the first filter after max pooling is :\n",
            " [[16 33]\n",
            " [34 35]]\n",
            "Convolved image with the second filter after max pooling is :\n",
            " [[17 14]\n",
            " [18 25]]\n",
            "Convolved image with the third filter after max pooling is :\n",
            " [[24 41]\n",
            " [42 35]]\n"
          ],
          "name": "stdout"
        }
      ]
    },
    {
      "cell_type": "code",
      "metadata": {
        "id": "_Yq5ACYT-LPq"
      },
      "source": [
        ""
      ],
      "execution_count": null,
      "outputs": []
    }
  ]
}